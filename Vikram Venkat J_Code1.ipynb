{
 "cells": [
  {
   "cell_type": "markdown",
   "metadata": {},
   "source": [
    "# <font color='Blue'>Linear Regression</font>"
   ]
  },
  {
   "cell_type": "markdown",
   "metadata": {},
   "source": [
    "## <font color='Blue'>1. Building a Simple Linear Regression Model</font>\n",
    "\n",
    "A dataset contain the salary of 50 graduating MBA students of a Business School in 2016 and their Class X percentage marks. We will develop a model to understand and predict salary based on Class X percentage marks.\n",
    "\n",
    "### <font color='Blue'>Steps in building a linear regression model</font>\n",
    "     STEP 1: Collect, Extract, Analyze Data\n",
    "     STEP 2: Processing Data\n",
    "     STEP 3: Dividing data into training and validation datasets\n",
    "     STEP 4: Build the model\n",
    "     STEP 5: Make Predictions"
   ]
  },
  {
   "cell_type": "markdown",
   "metadata": {},
   "source": [
    "#### <font color='Green'>STEP 1: Collect, Extract, Analyze Data</font>"
   ]
  },
  {
   "cell_type": "code",
   "execution_count": 1,
   "metadata": {},
   "outputs": [],
   "source": [
    "# Loading Data\n",
    "\n",
    "import warnings\n",
    "warnings.filterwarnings('ignore')\n",
    "import pandas as pd\n",
    "import numpy as np \n",
    "\n",
    "# Setting pandas print option to limit decimal places to 4\n",
    "np.set_printoptions(precision=4, linewidth=100) \n",
    "\n",
    "mba_salary_df = pd.read_csv( 'MBA Salary.csv' )"
   ]
  },
  {
   "cell_type": "code",
   "execution_count": 2,
   "metadata": {},
   "outputs": [
    {
     "data": {
      "text/html": [
       "<div>\n",
       "<style scoped>\n",
       "    .dataframe tbody tr th:only-of-type {\n",
       "        vertical-align: middle;\n",
       "    }\n",
       "\n",
       "    .dataframe tbody tr th {\n",
       "        vertical-align: top;\n",
       "    }\n",
       "\n",
       "    .dataframe thead th {\n",
       "        text-align: right;\n",
       "    }\n",
       "</style>\n",
       "<table border=\"1\" class=\"dataframe\">\n",
       "  <thead>\n",
       "    <tr style=\"text-align: right;\">\n",
       "      <th></th>\n",
       "      <th>S. No.</th>\n",
       "      <th>Percentage in Grade 10</th>\n",
       "      <th>Salary</th>\n",
       "    </tr>\n",
       "  </thead>\n",
       "  <tbody>\n",
       "    <tr>\n",
       "      <th>0</th>\n",
       "      <td>1</td>\n",
       "      <td>62.00</td>\n",
       "      <td>270000</td>\n",
       "    </tr>\n",
       "    <tr>\n",
       "      <th>1</th>\n",
       "      <td>2</td>\n",
       "      <td>76.33</td>\n",
       "      <td>200000</td>\n",
       "    </tr>\n",
       "    <tr>\n",
       "      <th>2</th>\n",
       "      <td>3</td>\n",
       "      <td>72.00</td>\n",
       "      <td>240000</td>\n",
       "    </tr>\n",
       "    <tr>\n",
       "      <th>3</th>\n",
       "      <td>4</td>\n",
       "      <td>60.00</td>\n",
       "      <td>250000</td>\n",
       "    </tr>\n",
       "    <tr>\n",
       "      <th>4</th>\n",
       "      <td>5</td>\n",
       "      <td>61.00</td>\n",
       "      <td>180000</td>\n",
       "    </tr>\n",
       "    <tr>\n",
       "      <th>5</th>\n",
       "      <td>6</td>\n",
       "      <td>55.00</td>\n",
       "      <td>300000</td>\n",
       "    </tr>\n",
       "    <tr>\n",
       "      <th>6</th>\n",
       "      <td>7</td>\n",
       "      <td>70.00</td>\n",
       "      <td>260000</td>\n",
       "    </tr>\n",
       "    <tr>\n",
       "      <th>7</th>\n",
       "      <td>8</td>\n",
       "      <td>68.00</td>\n",
       "      <td>235000</td>\n",
       "    </tr>\n",
       "    <tr>\n",
       "      <th>8</th>\n",
       "      <td>9</td>\n",
       "      <td>82.80</td>\n",
       "      <td>425000</td>\n",
       "    </tr>\n",
       "    <tr>\n",
       "      <th>9</th>\n",
       "      <td>10</td>\n",
       "      <td>59.00</td>\n",
       "      <td>240000</td>\n",
       "    </tr>\n",
       "  </tbody>\n",
       "</table>\n",
       "</div>"
      ],
      "text/plain": [
       "   S. No.  Percentage in Grade 10  Salary\n",
       "0       1                   62.00  270000\n",
       "1       2                   76.33  200000\n",
       "2       3                   72.00  240000\n",
       "3       4                   60.00  250000\n",
       "4       5                   61.00  180000\n",
       "5       6                   55.00  300000\n",
       "6       7                   70.00  260000\n",
       "7       8                   68.00  235000\n",
       "8       9                   82.80  425000\n",
       "9      10                   59.00  240000"
      ]
     },
     "execution_count": 2,
     "metadata": {},
     "output_type": "execute_result"
    }
   ],
   "source": [
    "mba_salary_df.head( 10 )"
   ]
  },
  {
   "cell_type": "code",
   "execution_count": 3,
   "metadata": {},
   "outputs": [
    {
     "name": "stdout",
     "output_type": "stream",
     "text": [
      "<class 'pandas.core.frame.DataFrame'>\n",
      "RangeIndex: 50 entries, 0 to 49\n",
      "Data columns (total 3 columns):\n",
      " #   Column                  Non-Null Count  Dtype  \n",
      "---  ------                  --------------  -----  \n",
      " 0   S. No.                  50 non-null     int64  \n",
      " 1   Percentage in Grade 10  50 non-null     float64\n",
      " 2   Salary                  50 non-null     int64  \n",
      "dtypes: float64(1), int64(2)\n",
      "memory usage: 1.3 KB\n"
     ]
    }
   ],
   "source": [
    "mba_salary_df.info()\n",
    "\n",
    "# Look for Missing data, Handle if any\n",
    "# Handle Categorical Variables if any"
   ]
  },
  {
   "cell_type": "markdown",
   "metadata": {},
   "source": [
    "#### <font color='Green'>STEP 2: Process Data</font>"
   ]
  },
  {
   "cell_type": "code",
   "execution_count": 4,
   "metadata": {},
   "outputs": [
    {
     "name": "stdout",
     "output_type": "stream",
     "text": [
      "Feature Set\n",
      "   const  Percentage in Grade 10\n",
      "0    1.0                   62.00\n",
      "1    1.0                   76.33\n",
      "2    1.0                   72.00\n",
      "3    1.0                   60.00\n",
      "4    1.0                   61.00\n",
      "5    1.0                   55.00\n",
      "6    1.0                   70.00\n",
      "7    1.0                   68.00\n",
      "8    1.0                   82.80\n",
      "9    1.0                   59.00\n"
     ]
    }
   ],
   "source": [
    "# Creating Feature Set and Outcome Variable\n",
    "import statsmodels.api as sm\n",
    "\n",
    "X = sm.add_constant( mba_salary_df['Percentage in Grade 10'] )\n",
    "print(\"Feature Set\")\n",
    "print(X.head(10))"
   ]
  },
  {
   "cell_type": "code",
   "execution_count": 5,
   "metadata": {},
   "outputs": [
    {
     "name": "stdout",
     "output_type": "stream",
     "text": [
      "Outcome Variable\n",
      "0    270000\n",
      "1    200000\n",
      "2    240000\n",
      "3    250000\n",
      "4    180000\n",
      "5    300000\n",
      "6    260000\n",
      "7    235000\n",
      "8    425000\n",
      "9    240000\n",
      "Name: Salary, dtype: int64\n"
     ]
    }
   ],
   "source": [
    "print(\"Outcome Variable\")\n",
    "Y = mba_salary_df['Salary']\n",
    "print(Y.head(10))"
   ]
  },
  {
   "cell_type": "markdown",
   "metadata": {},
   "source": [
    "#### <font color='Green'>STEP 3: Dividing data into training and validation datasets</font>"
   ]
  },
  {
   "cell_type": "code",
   "execution_count": 6,
   "metadata": {},
   "outputs": [],
   "source": [
    "# Splitting the dataset into training and validation sets\n",
    "\n",
    "from sklearn.model_selection import train_test_split\n",
    "train_X, test_X, train_y, test_y = train_test_split( X , Y, train_size = 0.8, random_state = 100 )"
   ]
  },
  {
   "cell_type": "code",
   "execution_count": 7,
   "metadata": {},
   "outputs": [
    {
     "name": "stdout",
     "output_type": "stream",
     "text": [
      "train_X\n",
      "<class 'pandas.core.frame.DataFrame'>\n",
      "Int64Index: 40 entries, 0 to 8\n",
      "Data columns (total 2 columns):\n",
      " #   Column                  Non-Null Count  Dtype  \n",
      "---  ------                  --------------  -----  \n",
      " 0   const                   40 non-null     float64\n",
      " 1   Percentage in Grade 10  40 non-null     float64\n",
      "dtypes: float64(2)\n",
      "memory usage: 960.0 bytes\n",
      "None\n",
      "___________________________________________________________________\n",
      "test_X\n",
      "<class 'pandas.core.frame.DataFrame'>\n",
      "Int64Index: 10 entries, 6 to 42\n",
      "Data columns (total 2 columns):\n",
      " #   Column                  Non-Null Count  Dtype  \n",
      "---  ------                  --------------  -----  \n",
      " 0   const                   10 non-null     float64\n",
      " 1   Percentage in Grade 10  10 non-null     float64\n",
      "dtypes: float64(2)\n",
      "memory usage: 240.0 bytes\n",
      "None\n",
      "___________________________________________________________________\n",
      "train_y <class 'pandas.core.series.Series'>\n",
      "40\n",
      "___________________________________________________________________\n",
      "test_y <class 'pandas.core.series.Series'>\n",
      "10\n"
     ]
    }
   ],
   "source": [
    "# Datatypes\n",
    "\n",
    "print(\"train_X\")\n",
    "print(train_X.info())\n",
    "print(\"___________________________________________________________________\")\n",
    "print(\"test_X\")\n",
    "print(test_X.info())\n",
    "print(\"___________________________________________________________________\")\n",
    "print(\"train_y\",type(train_y))\n",
    "print(len(train_y))\n",
    "print(\"___________________________________________________________________\")\n",
    "print(\"test_y\",type(test_y))\n",
    "print(len(test_y))"
   ]
  },
  {
   "cell_type": "markdown",
   "metadata": {},
   "source": [
    "#### <font color='Green'>STEP 4: Build the model</font>"
   ]
  },
  {
   "cell_type": "code",
   "execution_count": 11,
   "metadata": {},
   "outputs": [],
   "source": [
    "mba_salary_lm = sm.OLS( train_y, train_X ).fit()"
   ]
  },
  {
   "cell_type": "code",
   "execution_count": 12,
   "metadata": {},
   "outputs": [
    {
     "data": {
      "text/html": [
       "<table class=\"simpletable\">\n",
       "<tr>\n",
       "        <td>Model:</td>               <td>OLS</td>         <td>Adj. R-squared:</td>      <td>0.190</td>  \n",
       "</tr>\n",
       "<tr>\n",
       "  <td>Dependent Variable:</td>      <td>Salary</td>             <td>AIC:</td>          <td>1008.8680</td>\n",
       "</tr>\n",
       "<tr>\n",
       "         <td>Date:</td>        <td>2021-10-15 12:13</td>        <td>BIC:</td>          <td>1012.2458</td>\n",
       "</tr>\n",
       "<tr>\n",
       "   <td>No. Observations:</td>         <td>40</td>          <td>Log-Likelihood:</td>     <td>-502.43</td> \n",
       "</tr>\n",
       "<tr>\n",
       "       <td>Df Model:</td>              <td>1</td>           <td>F-statistic:</td>        <td>10.16</td>  \n",
       "</tr>\n",
       "<tr>\n",
       "     <td>Df Residuals:</td>           <td>38</td>        <td>Prob (F-statistic):</td>   <td>0.00287</td> \n",
       "</tr>\n",
       "<tr>\n",
       "      <td>R-squared:</td>            <td>0.211</td>            <td>Scale:</td>        <td>5.0121e+09</td>\n",
       "</tr>\n",
       "</table>\n",
       "<table class=\"simpletable\">\n",
       "<tr>\n",
       "             <td></td>               <th>Coef.</th>    <th>Std.Err.</th>     <th>t</th>    <th>P>|t|</th>    <th>[0.025</th>      <th>0.975]</th>   \n",
       "</tr>\n",
       "<tr>\n",
       "  <th>const</th>                  <td>30587.2857</td> <td>71869.4497</td> <td>0.4256</td> <td>0.6728</td> <td>-114904.8089</td> <td>176079.3802</td>\n",
       "</tr>\n",
       "<tr>\n",
       "  <th>Percentage in Grade 10</th>  <td>3560.5874</td>  <td>1116.9258</td> <td>3.1878</td> <td>0.0029</td>   <td>1299.4892</td>   <td>5821.6855</td> \n",
       "</tr>\n",
       "</table>\n",
       "<table class=\"simpletable\">\n",
       "<tr>\n",
       "     <td>Omnibus:</td>    <td>2.048</td>  <td>Durbin-Watson:</td>   <td>2.611</td>\n",
       "</tr>\n",
       "<tr>\n",
       "  <td>Prob(Omnibus):</td> <td>0.359</td> <td>Jarque-Bera (JB):</td> <td>1.724</td>\n",
       "</tr>\n",
       "<tr>\n",
       "       <td>Skew:</td>     <td>0.369</td>     <td>Prob(JB):</td>     <td>0.422</td>\n",
       "</tr>\n",
       "<tr>\n",
       "     <td>Kurtosis:</td>   <td>2.300</td>  <td>Condition No.:</td>    <td>413</td> \n",
       "</tr>\n",
       "</table>"
      ],
      "text/plain": [
       "<class 'statsmodels.iolib.summary2.Summary'>\n",
       "\"\"\"\n",
       "                          Results: Ordinary least squares\n",
       "===================================================================================\n",
       "Model:                    OLS                   Adj. R-squared:          0.190     \n",
       "Dependent Variable:       Salary                AIC:                     1008.8680 \n",
       "Date:                     2021-10-15 12:13      BIC:                     1012.2458 \n",
       "No. Observations:         40                    Log-Likelihood:          -502.43   \n",
       "Df Model:                 1                     F-statistic:             10.16     \n",
       "Df Residuals:             38                    Prob (F-statistic):      0.00287   \n",
       "R-squared:                0.211                 Scale:                   5.0121e+09\n",
       "-----------------------------------------------------------------------------------\n",
       "                         Coef.     Std.Err.    t    P>|t|     [0.025       0.975]  \n",
       "-----------------------------------------------------------------------------------\n",
       "const                  30587.2857 71869.4497 0.4256 0.6728 -114904.8089 176079.3802\n",
       "Percentage in Grade 10  3560.5874  1116.9258 3.1878 0.0029    1299.4892   5821.6855\n",
       "-----------------------------------------------------------------------------------\n",
       "Omnibus:                    2.048              Durbin-Watson:                 2.611\n",
       "Prob(Omnibus):              0.359              Jarque-Bera (JB):              1.724\n",
       "Skew:                       0.369              Prob(JB):                      0.422\n",
       "Kurtosis:                   2.300              Condition No.:                 413  \n",
       "===================================================================================\n",
       "\n",
       "\"\"\""
      ]
     },
     "execution_count": 12,
     "metadata": {},
     "output_type": "execute_result"
    }
   ],
   "source": [
    "mba_salary_lm.summary2()\n",
    "\n",
    "# R-squared is 0.211, model explains 21.1% of the variance in y\n",
    "# p-value of t-test of β1 is < 0.05, so β1 is statistically significant\n",
    "# p-value of F-test of the model is < 0.05, so the model is statistically significant"
   ]
  },
  {
   "cell_type": "markdown",
   "metadata": {},
   "source": [
    "#### <font color='Green'>Step 5: Measure model accuracy and validate model</font>"
   ]
  },
  {
   "cell_type": "markdown",
   "metadata": {},
   "source": [
    "<b> Making predictions in validation set </b>"
   ]
  },
  {
   "cell_type": "code",
   "execution_count": 13,
   "metadata": {},
   "outputs": [
    {
     "data": {
      "text/plain": [
       "6     279828.40\n",
       "36    272707.23\n",
       "37    215737.83\n",
       "28    237101.35\n",
       "43    295851.05\n",
       "49    247071.00\n",
       "5     226419.59\n",
       "33    308313.10\n",
       "20    254904.29\n",
       "42    295494.99\n",
       "dtype: float64"
      ]
     },
     "execution_count": 13,
     "metadata": {},
     "output_type": "execute_result"
    }
   ],
   "source": [
    "pred_y = mba_salary_lm.predict( test_X )\n",
    "round(pred_y,2)"
   ]
  },
  {
   "cell_type": "markdown",
   "metadata": {},
   "source": [
    "<b> Finding R-Square and RMSE </b>"
   ]
  },
  {
   "cell_type": "code",
   "execution_count": 15,
   "metadata": {},
   "outputs": [
    {
     "name": "stdout",
     "output_type": "stream",
     "text": [
      "R-Square_Train:  0.211  RMSE_Train:  69003.4482\n",
      "R-Square_Valid:  0.1566  RMSE_Valid:  73458.0435\n"
     ]
    }
   ],
   "source": [
    "from sklearn.metrics import r2_score, mean_squared_error\n",
    "rsquare_train = round(np.abs(r2_score(train_y,mba_salary_lm.fittedvalues)),4)\n",
    "rsquare_valid = round(np.abs(r2_score(test_y,pred_y)),4)\n",
    "\n",
    "import numpy\n",
    "rmse_train = round(np.sqrt(mean_squared_error(train_y,mba_salary_lm.fittedvalues)),4)\n",
    "rmse_valid = round(np.sqrt(mean_squared_error(pred_y,test_y)),4)\n",
    "\n",
    "print(\"R-Square_Train: \", rsquare_train, \" RMSE_Train: \", rmse_train)\n",
    "print(\"R-Square_Valid: \", rsquare_valid, \" RMSE_Valid: \", rmse_valid)"
   ]
  },
  {
   "cell_type": "markdown",
   "metadata": {},
   "source": [
    "#### <font color='Green'>Step 6: Making Predictions</font>"
   ]
  },
  {
   "cell_type": "code",
   "execution_count": 16,
   "metadata": {},
   "outputs": [
    {
     "data": {
      "text/html": [
       "<div>\n",
       "<style scoped>\n",
       "    .dataframe tbody tr th:only-of-type {\n",
       "        vertical-align: middle;\n",
       "    }\n",
       "\n",
       "    .dataframe tbody tr th {\n",
       "        vertical-align: top;\n",
       "    }\n",
       "\n",
       "    .dataframe thead th {\n",
       "        text-align: right;\n",
       "    }\n",
       "</style>\n",
       "<table border=\"1\" class=\"dataframe\">\n",
       "  <thead>\n",
       "    <tr style=\"text-align: right;\">\n",
       "      <th></th>\n",
       "      <th>grade_10_perc</th>\n",
       "      <th>test_y</th>\n",
       "      <th>pred_y</th>\n",
       "      <th>pred_y_left</th>\n",
       "      <th>pred_y_right</th>\n",
       "      <th>pred_interval_size</th>\n",
       "    </tr>\n",
       "  </thead>\n",
       "  <tbody>\n",
       "    <tr>\n",
       "      <th>6</th>\n",
       "      <td>70.0</td>\n",
       "      <td>260000</td>\n",
       "      <td>279828.40</td>\n",
       "      <td>134000.16</td>\n",
       "      <td>425656.65</td>\n",
       "      <td>291656.49</td>\n",
       "    </tr>\n",
       "    <tr>\n",
       "      <th>36</th>\n",
       "      <td>68.0</td>\n",
       "      <td>177600</td>\n",
       "      <td>272707.23</td>\n",
       "      <td>127260.89</td>\n",
       "      <td>418153.57</td>\n",
       "      <td>290892.68</td>\n",
       "    </tr>\n",
       "    <tr>\n",
       "      <th>37</th>\n",
       "      <td>52.0</td>\n",
       "      <td>236000</td>\n",
       "      <td>215737.83</td>\n",
       "      <td>68302.61</td>\n",
       "      <td>363173.04</td>\n",
       "      <td>294870.43</td>\n",
       "    </tr>\n",
       "    <tr>\n",
       "      <th>28</th>\n",
       "      <td>58.0</td>\n",
       "      <td>360000</td>\n",
       "      <td>237101.35</td>\n",
       "      <td>91458.13</td>\n",
       "      <td>382744.58</td>\n",
       "      <td>291286.45</td>\n",
       "    </tr>\n",
       "    <tr>\n",
       "      <th>43</th>\n",
       "      <td>74.5</td>\n",
       "      <td>250000</td>\n",
       "      <td>295851.05</td>\n",
       "      <td>148658.29</td>\n",
       "      <td>443043.80</td>\n",
       "      <td>294385.51</td>\n",
       "    </tr>\n",
       "    <tr>\n",
       "      <th>49</th>\n",
       "      <td>60.8</td>\n",
       "      <td>300000</td>\n",
       "      <td>247071.00</td>\n",
       "      <td>101837.28</td>\n",
       "      <td>392304.72</td>\n",
       "      <td>290467.44</td>\n",
       "    </tr>\n",
       "    <tr>\n",
       "      <th>5</th>\n",
       "      <td>55.0</td>\n",
       "      <td>300000</td>\n",
       "      <td>226419.59</td>\n",
       "      <td>80034.71</td>\n",
       "      <td>372804.47</td>\n",
       "      <td>292769.76</td>\n",
       "    </tr>\n",
       "    <tr>\n",
       "      <th>33</th>\n",
       "      <td>78.0</td>\n",
       "      <td>330000</td>\n",
       "      <td>308313.10</td>\n",
       "      <td>159585.70</td>\n",
       "      <td>457040.50</td>\n",
       "      <td>297454.80</td>\n",
       "    </tr>\n",
       "    <tr>\n",
       "      <th>20</th>\n",
       "      <td>63.0</td>\n",
       "      <td>120000</td>\n",
       "      <td>254904.29</td>\n",
       "      <td>109799.23</td>\n",
       "      <td>400009.35</td>\n",
       "      <td>290210.12</td>\n",
       "    </tr>\n",
       "    <tr>\n",
       "      <th>42</th>\n",
       "      <td>74.4</td>\n",
       "      <td>300000</td>\n",
       "      <td>295494.99</td>\n",
       "      <td>148340.06</td>\n",
       "      <td>442649.91</td>\n",
       "      <td>294309.85</td>\n",
       "    </tr>\n",
       "  </tbody>\n",
       "</table>\n",
       "</div>"
      ],
      "text/plain": [
       "    grade_10_perc  test_y     pred_y  pred_y_left  pred_y_right  \\\n",
       "6            70.0  260000  279828.40    134000.16     425656.65   \n",
       "36           68.0  177600  272707.23    127260.89     418153.57   \n",
       "37           52.0  236000  215737.83     68302.61     363173.04   \n",
       "28           58.0  360000  237101.35     91458.13     382744.58   \n",
       "43           74.5  250000  295851.05    148658.29     443043.80   \n",
       "49           60.8  300000  247071.00    101837.28     392304.72   \n",
       "5            55.0  300000  226419.59     80034.71     372804.47   \n",
       "33           78.0  330000  308313.10    159585.70     457040.50   \n",
       "20           63.0  120000  254904.29    109799.23     400009.35   \n",
       "42           74.4  300000  295494.99    148340.06     442649.91   \n",
       "\n",
       "    pred_interval_size  \n",
       "6            291656.49  \n",
       "36           290892.68  \n",
       "37           294870.43  \n",
       "28           291286.45  \n",
       "43           294385.51  \n",
       "49           290467.44  \n",
       "5            292769.76  \n",
       "33           297454.80  \n",
       "20           290210.12  \n",
       "42           294309.85  "
      ]
     },
     "execution_count": 16,
     "metadata": {},
     "output_type": "execute_result"
    }
   ],
   "source": [
    "predictions = mba_salary_lm.get_prediction(test_X)\n",
    "predictions_df = round(predictions.summary_frame(alpha=0.05),2)\n",
    "\n",
    "# Store all the values in a dataframe\n",
    "pred_y_df = pd.DataFrame( { 'grade_10_perc': test_X['Percentage in Grade 10'],\n",
    "                            'test_y': test_y,\n",
    "                            'pred_y': predictions_df['mean'],\n",
    "                            'pred_y_left': predictions_df['obs_ci_lower'],\n",
    "                            'pred_y_right': predictions_df['obs_ci_upper'],\n",
    "                            'pred_interval_size':predictions_df['obs_ci_upper']-predictions_df['obs_ci_lower']} )\n",
    "pred_y_df"
   ]
  },
  {
   "cell_type": "markdown",
   "metadata": {},
   "source": [
    "##Thankyou...."
   ]
  }
 ],
 "metadata": {
  "kernelspec": {
   "display_name": "Python 3",
   "language": "python",
   "name": "python3"
  },
  "language_info": {
   "codemirror_mode": {
    "name": "ipython",
    "version": 3
   },
   "file_extension": ".py",
   "mimetype": "text/x-python",
   "name": "python",
   "nbconvert_exporter": "python",
   "pygments_lexer": "ipython3",
   "version": "3.8.5"
  }
 },
 "nbformat": 4,
 "nbformat_minor": 4
}
